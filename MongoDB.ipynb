{
 "cells": [
  {
   "cell_type": "code",
   "execution_count": null,
   "id": "96c53446-d24b-4e82-9282-b83dcdf49eb6",
   "metadata": {},
   "outputs": [],
   "source": [
    "#Ans1: a. MongoDB is a popular open-source NoSQL database that is designed to handle large volumes of unstructured or semi-structured data\n",
    "#      b.Non-relational databases, often referred to as NoSQL databases, are designed to handle various data models and structures that are not typically well-suited to traditional relational databases.\n",
    "#      c.MongoDB, as a NoSQL database, is preferred over traditional SQL (relational) databases in various scenarios due to its flexible schema, scalability, and performance characteristics. \n"
   ]
  },
  {
   "cell_type": "code",
   "execution_count": null,
   "id": "4a6c650e-4cd5-4dba-9932-a5a02f7b6af2",
   "metadata": {},
   "outputs": [],
   "source": [
    "#Ans2: Features:\n",
    "#1.Document-Oriented Storage: Stores data in flexible, JSON-like documents (BSON).\n",
    "#2.Schema Flexibility: Allows varying document structures within the same collection.\n",
    "#3.Scalability: Supports horizontal scaling through sharding.\n",
    "#4.High Performance: Optimized for fast data access with in-memory processing and indexing.\n",
    "#5.Replication and High Availability: Uses replica sets for data redundancy and automatic failover.\n",
    "#6.Aggregation Framework: Provides powerful tools for complex data processing and analysis."
   ]
  },
  {
   "cell_type": "code",
   "execution_count": 3,
   "id": "5a77ee00-4d48-4d7d-b7ba-243f8b9412b6",
   "metadata": {},
   "outputs": [],
   "source": [
    "#Ans3: \n",
    "from pymongo import MongoClient\n",
    "client = MongoClient('mongodb:file path')\n",
    "db = client.test_db\n",
    "collection = db.test_collection\n",
    "collection.insert_one({\"name\": \"Alice\", \"age\": 30})\n",
    "print(collection.find_one({\"name\": \"Alice\"}))\n",
    "client.close()"
   ]
  },
  {
   "cell_type": "code",
   "execution_count": null,
   "id": "5a3b428b-24a8-48f3-8fd9-ffb29af41b49",
   "metadata": {},
   "outputs": [],
   "source": [
    "#Ans4:a.\n",
    "records = [\n",
    "    {\"name\": \"Bob\", \"age\": 25, \"city\": \"San Francisco\"},\n",
    "    {\"name\": \"Charlie\", \"age\": 35, \"city\": \"Chicago\"},\n",
    "    {\"name\": \"Diana\", \"age\": 28, \"city\": \"Los Angeles\"}\n",
    "]\n",
    "collection.insert_many(records)\n",
    "for doc in collection.find():\n",
    "    print(doc)\n",
    "client.close()"
   ]
  },
  {
   "cell_type": "code",
   "execution_count": null,
   "id": "41e8d4a6-ad5e-467d-9e48-d3f2934f041c",
   "metadata": {},
   "outputs": [],
   "source": [
    "b.\n",
    "for doc in collection.find():\n",
    "    print(doc)"
   ]
  },
  {
   "cell_type": "code",
   "execution_count": null,
   "id": "94c719e7-95b1-4de7-98a8-7c06f5297baf",
   "metadata": {},
   "outputs": [],
   "source": [
    "c.\n",
    "one = collection.find_one({\"name\": \"Alice\"})\n",
    "print(\"find_one result:\", one)\n"
   ]
  },
  {
   "cell_type": "code",
   "execution_count": null,
   "id": "92e65d09-65bf-42a3-a6b9-4a416dcf3190",
   "metadata": {},
   "outputs": [],
   "source": [
    "#Ans5:The find() method in MongoDB is used to retrieve documents from a collection that match a specified query criteria.\n",
    "#b.Example\n",
    "cursor = collection.find({})\n",
    "for document in cursor:\n",
    "    print(document)"
   ]
  },
  {
   "cell_type": "code",
   "execution_count": null,
   "id": "cbd39aa0-1b85-4521-aeaf-f1301d25595b",
   "metadata": {},
   "outputs": [],
   "source": [
    "#Ans6:The sort() method in MongoDB is used to order the results of a query based on the values of one or more fields.\n",
    "#Example:-\n",
    "cursor = collection.find().sort(\"age\", DESCENDING)\n",
    "for document in cursor:\n",
    "    print(document)"
   ]
  },
  {
   "cell_type": "code",
   "execution_count": null,
   "id": "cbd7db14-bea1-4c76-9430-2eb60112fdaa",
   "metadata": {},
   "outputs": [],
   "source": [
    "#Ans7: \n",
    "#  a.delete_one():Removes a single document that matches a specified query.\n",
    "#  b.delete_many(): Removes all documents that match a specified query.\n",
    "#  c.drop(): Deletes an entire collection from the database."
   ]
  },
  {
   "cell_type": "code",
   "execution_count": null,
   "id": "eef9f437-767b-4b89-a0a9-8b4648b6957e",
   "metadata": {},
   "outputs": [],
   "source": []
  }
 ],
 "metadata": {
  "kernelspec": {
   "display_name": "Python 3 (ipykernel)",
   "language": "python",
   "name": "python3"
  },
  "language_info": {
   "codemirror_mode": {
    "name": "ipython",
    "version": 3
   },
   "file_extension": ".py",
   "mimetype": "text/x-python",
   "name": "python",
   "nbconvert_exporter": "python",
   "pygments_lexer": "ipython3",
   "version": "3.12.4"
  }
 },
 "nbformat": 4,
 "nbformat_minor": 5
}
